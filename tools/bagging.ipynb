{
 "cells": [
  {
   "cell_type": "code",
   "execution_count": 2,
   "metadata": {},
   "outputs": [],
   "source": [
    "versions = [\n",
    "    '8', '9', '12', '13', '14', '32', '60', '62', '63', '64'\n",
    "]\n"
   ]
  },
  {
   "cell_type": "code",
   "execution_count": 3,
   "metadata": {},
   "outputs": [],
   "source": [
    "res = {}\n",
    "for version in versions:\n",
    "    with open(f'../lightning_logs/version_{version}/b_submission.csv') as reader:\n",
    "        for line in reader:\n",
    "            if line.startswith('num'): continue\n",
    "            idx, pred = line.strip().split(',')\n",
    "            res.setdefault(idx, [])\n",
    "            res[idx].append([x for x in pred])\n"
   ]
  },
  {
   "cell_type": "code",
   "execution_count": 4,
   "metadata": {},
   "outputs": [
    {
     "data": {
      "text/plain": [
       "[['3', 'I', 'P', 'U'],\n",
       " ['3', 'I', 'P', 'U'],\n",
       " ['3', 'I', 'P', 'U'],\n",
       " ['3', 'I', 'P', 'U'],\n",
       " ['3', 'I', 'P', 'U'],\n",
       " ['3', 'I', 'P', 'U'],\n",
       " ['3', 'I', 'P', 'U'],\n",
       " ['3', 'I', 'P', 'U'],\n",
       " ['3', 'I', 'P', 'U'],\n",
       " ['3', 'I', 'P', 'U']]"
      ]
     },
     "execution_count": 4,
     "metadata": {},
     "output_type": "execute_result"
    }
   ],
   "source": [
    "res['1']"
   ]
  },
  {
   "cell_type": "code",
   "execution_count": 5,
   "metadata": {},
   "outputs": [],
   "source": [
    "submission = {}\n",
    "from collections import Counter\n",
    "for idx, cands in res.items():\n",
    "    tmp = \"\"\n",
    "    for i in range(4):\n",
    "        counter = Counter()\n",
    "        for cand in cands:\n",
    "            if len(cand) != 4: continue\n",
    "            counter[cand[i]] += 1\n",
    "        tmp += counter.most_common(1)[0][0]\n",
    "    submission[idx] = tmp\n",
    "    \n"
   ]
  },
  {
   "cell_type": "code",
   "execution_count": 6,
   "metadata": {},
   "outputs": [],
   "source": [
    "with open('../b_submission.csv', 'w') as writer:\n",
    "    writer.write(\"num,tag\\n\")\n",
    "    for k, v in submission.items():\n",
    "        writer.write(f\"{k},{v}\\n\")\n"
   ]
  },
  {
   "cell_type": "code",
   "execution_count": null,
   "metadata": {},
   "outputs": [],
   "source": []
  }
 ],
 "metadata": {
  "interpreter": {
   "hash": "706711e28607906f737c2971709519be24424a10b0cc0683cee428b8c948a88e"
  },
  "kernelspec": {
   "display_name": "Python 3.8.3 ('base')",
   "language": "python",
   "name": "python3"
  },
  "language_info": {
   "codemirror_mode": {
    "name": "ipython",
    "version": 3
   },
   "file_extension": ".py",
   "mimetype": "text/x-python",
   "name": "python",
   "nbconvert_exporter": "python",
   "pygments_lexer": "ipython3",
   "version": "3.8.3"
  },
  "orig_nbformat": 4
 },
 "nbformat": 4,
 "nbformat_minor": 2
}
