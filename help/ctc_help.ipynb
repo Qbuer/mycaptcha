{
 "cells": [
  {
   "cell_type": "code",
   "execution_count": 1,
   "metadata": {},
   "outputs": [],
   "source": [
    "from torchvision.models import ResNet\n",
    "from torchvision.models.resnet import BasicBlock\n",
    "import torch.nn as nn\n",
    "import torch"
   ]
  },
  {
   "cell_type": "code",
   "execution_count": 30,
   "metadata": {},
   "outputs": [],
   "source": [
    "model_ft = ResNet(BasicBlock, [2, 2, 2, 2])\n",
    "base_model = nn.Sequential(*list(model_ft.children())[:-2])\n",
    "\n",
    "gru1 = nn.GRU(32, 64)\n",
    "gru2 = nn.GRU(64, 128)\n",
    "\n",
    "fc = nn.Sequential(nn.Dropout(0.5),\n",
    "                                 nn.Linear(256, 63))\n",
    "\n",
    "loss = nn.CTCLoss(blank=62)\n",
    "\n"
   ]
  },
  {
   "cell_type": "code",
   "execution_count": 31,
   "metadata": {},
   "outputs": [
    {
     "name": "stdout",
     "output_type": "stream",
     "text": [
      "torch.Size([32, 512, 2, 4])\n",
      "torch.Size([32, 16, 64])\n",
      "torch.Size([32, 16, 256])\n",
      "torch.Size([32, 16, 63])\n",
      "torch.Size([32, 16, 63])\n",
      "torch.Size([32])\n",
      "torch.Size([32])\n"
     ]
    }
   ],
   "source": [
    "x = torch.randn(32, 3, 40, 100)\n",
    "target = torch.randint(low=0, high=63, size=(32, 4), dtype=torch.long)\n",
    "x = base_model(x)\n",
    "print(x.shape)\n",
    "x = nn.AdaptiveAvgPool2d((1))(x)\n",
    "# x = torch.reshape(x, (-1, 512, 1))\n",
    "x = torch.reshape(x, (-1, 16, 32))\n",
    "x1, _ = gru1(x)\n",
    "x2, _ = gru1(x)\n",
    "x = x1 + x2\n",
    "print(x.shape)\n",
    "x3, _ = gru2(x)\n",
    "x4, _ = gru2(x)\n",
    "x = torch.concat((x3, x4), dim=2)\n",
    "print(x.shape)\n",
    "x = fc(x)\n",
    "print(x.shape)\n",
    "x = torch.softmax(x, dim=2)\n",
    "print(x.shape)\n",
    "x = torch.permute(x, (1,0,2))\n",
    "input_lengths = torch.full(size=(32,), fill_value=16, dtype=torch.long)\n",
    "target_lengths = torch.full(size=(32,), fill_value=4, dtype=torch.long)\n",
    "print(input_lengths.shape)\n",
    "print(target_lengths.shape)\n",
    "_ = loss(x, target, input_lengths, target_lengths)"
   ]
  },
  {
   "cell_type": "code",
   "execution_count": 29,
   "metadata": {},
   "outputs": [
    {
     "data": {
      "text/plain": [
       "tensor([4, 4, 4, 4, 4, 4, 4, 4, 4, 4, 4, 4, 4, 4, 4, 4, 4, 4, 4, 4, 4, 4, 4, 4,\n",
       "        4, 4, 4, 4, 4, 4, 4, 4])"
      ]
     },
     "execution_count": 29,
     "metadata": {},
     "output_type": "execute_result"
    }
   ],
   "source": [
    "target_lengths\n",
    "\n"
   ]
  },
  {
   "cell_type": "code",
   "execution_count": null,
   "metadata": {},
   "outputs": [],
   "source": []
  }
 ],
 "metadata": {
  "interpreter": {
   "hash": "aee8b7b246df8f9039afb4144a1f6fd8d2ca17a180786b69acc140d282b71a49"
  },
  "kernelspec": {
   "display_name": "Python 3.6.7 64-bit",
   "language": "python",
   "name": "python3"
  },
  "language_info": {
   "codemirror_mode": {
    "name": "ipython",
    "version": 3
   },
   "file_extension": ".py",
   "mimetype": "text/x-python",
   "name": "python",
   "nbconvert_exporter": "python",
   "pygments_lexer": "ipython3",
   "version": "3.8.3"
  },
  "orig_nbformat": 4
 },
 "nbformat": 4,
 "nbformat_minor": 2
}
