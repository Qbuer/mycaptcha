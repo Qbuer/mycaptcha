{
 "cells": [
  {
   "cell_type": "code",
   "execution_count": null,
   "metadata": {},
   "outputs": [],
   "source": [
    "from model.res18 import Res18Model\n",
    "from model.res50 import Res50Model\n",
    "from model.crnn import CrnnModel\n",
    "from dataModule import captchaDataModule\n",
    "import torch\n",
    "import xgboost as xgb\n",
    "from lib.help import load_model_path"
   ]
  },
  {
   "cell_type": "code",
   "execution_count": null,
   "metadata": {},
   "outputs": [],
   "source": [
    "versions = [\n",
    "    '8', '9', '12', '13', '14', '60', '62', '63'\n",
    "]\n",
    "model_type = [\n",
    "    Res18Model, Res18Model, Res18Model, Res18Model, Res50Model, Res18Model, Res18Model, Res18Model\n",
    "]\n"
   ]
  },
  {
   "cell_type": "code",
   "execution_count": null,
   "metadata": {},
   "outputs": [],
   "source": [
    "models = []\n",
    "for v, M in zip(versions, model_type):\n",
    "    path = load_model_path(v)\n",
    "    models.append(M.load_from_checkpoint(path).eval())\n"
   ]
  },
  {
   "cell_type": "code",
   "execution_count": null,
   "metadata": {},
   "outputs": [],
   "source": [
    "data = captchaDataModule('data/dataset4', batch_size=16, num_workers=4)\n",
    "data.setup()"
   ]
  },
  {
   "cell_type": "code",
   "execution_count": null,
   "metadata": {},
   "outputs": [],
   "source": [
    "dev = torch.device(\"cuda\") if torch.cuda.is_available() else torch.device(\"cpu\")\n",
    "models = [model.to(dev) for model in models]\n",
    "print(dev)"
   ]
  },
  {
   "cell_type": "code",
   "execution_count": null,
   "metadata": {},
   "outputs": [],
   "source": [
    "outputs = []\n",
    "Y = []\n",
    "with torch.no_grad():\n",
    "    for x, label, _ in data.train_dataloader():\n",
    "        \n",
    "        x = x.to(dev)\n",
    "        Y.append(label.reshape((-1, 1)).squeeze(dim=1))\n",
    "        batch_output = []\n",
    "        \n",
    "        for model in models[:]:\n",
    "            output = model(x)\n",
    "            # tuple 4 * (bs, dim)\n",
    "            num, dim = output[0].shape\n",
    "            output = torch.concat(output, dim=1).reshape((-1, dim))\n",
    "            # output.shape (bs*4, dim)\n",
    "            batch_output.append(output)\n",
    "        outputs.append(torch.concat(batch_output, dim=1).cpu())\n",
    "        x.detach()\n",
    "        break\n",
    "\n",
    "outputs = torch.concat(outputs, dim=0)\n",
    "# outputs.shape (4*data_size, len(models)*62)\n",
    "Y = torch.concat(Y, dim=0)"
   ]
  },
  {
   "cell_type": "code",
   "execution_count": null,
   "metadata": {},
   "outputs": [],
   "source": [
    "\n",
    "xgb_X = outputs.detach().numpy()\n",
    "xgb_Y = Y.detach().numpy()"
   ]
  },
  {
   "cell_type": "code",
   "execution_count": null,
   "metadata": {},
   "outputs": [],
   "source": [
    "xgb_model = xgb.XGBClassifier()\n",
    "xgb_model.fit(xgb_X, xgb_Y)"
   ]
  },
  {
   "cell_type": "markdown",
   "metadata": {},
   "source": []
  },
  {
   "cell_type": "code",
   "execution_count": null,
   "metadata": {},
   "outputs": [],
   "source": [
    "outputs = []\n",
    "Y = []\n",
    "with torch.no_grad():\n",
    "    for x, label, _ in data.val_dataloader():\n",
    "        \n",
    "        x = x.to(dev)\n",
    "        Y.append(label.reshape((-1, 1)).squeeze(dim=1))\n",
    "        batch_output = []\n",
    "        \n",
    "        for model in models[:]:\n",
    "            output = model(x)\n",
    "            # tuple 4 * (bs, dim)\n",
    "            num, dim = output[0].shape\n",
    "            output = torch.concat(output, dim=1).reshape((-1, dim))\n",
    "            # output.shape (bs*4, dim)\n",
    "            batch_output.append(output)\n",
    "        x.detach()\n",
    "        outputs.append(torch.concat(batch_output, dim=1).cpu())\n",
    "        break\n",
    "\n",
    "outputs = torch.concat(outputs, dim=0)\n",
    "# outputs.shape (4*data_size, len(models)*62)\n",
    "Y = torch.concat(Y, dim=0)"
   ]
  },
  {
   "cell_type": "code",
   "execution_count": null,
   "metadata": {},
   "outputs": [],
   "source": [
    "\n",
    "pred = xgb_model.predict(outputs.detach().numpy())"
   ]
  },
  {
   "cell_type": "code",
   "execution_count": null,
   "metadata": {},
   "outputs": [],
   "source": [
    "pred = torch.tensor(pred)\n",
    "pred = pred.reshape((-1, 4))\n",
    "xgb_val_Y = Y.reshape((-1, 4))\n"
   ]
  },
  {
   "cell_type": "code",
   "execution_count": null,
   "metadata": {},
   "outputs": [],
   "source": [
    "diff = (xgb_val_Y != pred)\n",
    "diff = diff.sum(1)\n",
    "diff = diff != 0\n",
    "wrong_num = diff.sum(0).item()\n",
    "num = xgb_val_Y.shape[0]\n",
    "acc = (num - wrong_num) / num"
   ]
  },
  {
   "cell_type": "code",
   "execution_count": null,
   "metadata": {},
   "outputs": [],
   "source": [
    "print(f\"acc: {acc}\")"
   ]
  },
  {
   "cell_type": "code",
   "execution_count": null,
   "metadata": {},
   "outputs": [],
   "source": [
    "xgb_model.save_model('xgb.model')"
   ]
  },
  {
   "cell_type": "code",
   "execution_count": null,
   "metadata": {},
   "outputs": [],
   "source": []
  }
 ],
 "metadata": {
  "interpreter": {
   "hash": "706711e28607906f737c2971709519be24424a10b0cc0683cee428b8c948a88e"
  },
  "kernelspec": {
   "display_name": "Python 3.8.3 ('base')",
   "language": "python",
   "name": "python3"
  },
  "language_info": {
   "codemirror_mode": {
    "name": "ipython",
    "version": 3
   },
   "file_extension": ".py",
   "mimetype": "text/x-python",
   "name": "python",
   "nbconvert_exporter": "python",
   "pygments_lexer": "ipython3",
   "version": "3.8.3"
  },
  "orig_nbformat": 4
 },
 "nbformat": 4,
 "nbformat_minor": 2
}
